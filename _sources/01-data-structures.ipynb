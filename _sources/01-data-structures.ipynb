{
 "cells": [
  {
   "cell_type": "markdown",
   "id": "88312624",
   "metadata": {},
   "source": [
    "# Extracting meaningful features\n",
    "\n",
    "You may notice that the name `nilearn` is reminiscent of [`scikit-learn`](https://scikit-learn.org),\n",
    "a popular Python library for machine learning.\n",
    "This is no accident!\n",
    "Nilearn and scikit-learn were created by the same team,\n",
    "and nilearn is designed to bring machine **LEARN**ing to the NeuroImaging (**NI**) domain.\n",
    "\n",
    "With that in mind,\n",
    "let's briefly consider why we might want specialized tools for working with neuroimaging data.\n",
    "When performing a machine learning analysis, our data often look something like this:"
   ]
  },
  {
   "cell_type": "code",
   "execution_count": 1,
   "id": "7c49e23d",
   "metadata": {},
   "outputs": [
    {
     "name": "stdout",
     "output_type": "stream",
     "text": [
      ".. _diabetes_dataset:\n",
      "\n",
      "Diabetes dataset\n",
      "----------------\n",
      "\n",
      "Ten baseline variables, age, sex, body mass index, average blood\n",
      "pressure, and six blood serum measurements were obtained for each of n =\n",
      "442 diabetes patients, as well as the response of interest, a\n",
      "quantitative measure of disease progression one year after baseline.\n",
      "\n",
      "**Data Set Characteristics:**\n",
      "\n",
      "  :Number of Instances: 442\n",
      "\n",
      "  :Number of Attributes: First 10 columns are numeric predictive values\n",
      "\n",
      "  :Target: Column 11 is a quantitative measure of disease progression one year after baseline\n",
      "\n",
      "  :Attribute Information:\n",
      "      - age     age in years\n",
      "      - sex\n",
      "      - bmi     body mass index\n",
      "      - bp      average blood pressure\n",
      "      - s1      tc, total serum cholesterol\n",
      "      - s2      ldl, low-density lipoproteins\n",
      "      - s3      hdl, high-density lipoproteins\n",
      "      - s4      tch, total cholesterol / HDL\n",
      "      - s5      ltg, possibly log of serum triglycerides level\n",
      "      - s6      glu, blood sugar level\n",
      "\n",
      "Note: Each of these 10 feature variables have been mean centered and scaled by the standard deviation times `n_samples` (i.e. the sum of squares of each column totals 1).\n",
      "\n",
      "Source URL:\n",
      "https://www4.stat.ncsu.edu/~boos/var.select/diabetes.html\n",
      "\n",
      "For more information see:\n",
      "Bradley Efron, Trevor Hastie, Iain Johnstone and Robert Tibshirani (2004) \"Least Angle Regression,\" Annals of Statistics (with discussion), 407-499.\n",
      "(https://web.stanford.edu/~hastie/Papers/LARS/LeastAngle_2002.pdf)\n"
     ]
    },
    {
     "data": {
      "text/html": [
       "<div>\n",
       "<style scoped>\n",
       "    .dataframe tbody tr th:only-of-type {\n",
       "        vertical-align: middle;\n",
       "    }\n",
       "\n",
       "    .dataframe tbody tr th {\n",
       "        vertical-align: top;\n",
       "    }\n",
       "\n",
       "    .dataframe thead th {\n",
       "        text-align: right;\n",
       "    }\n",
       "</style>\n",
       "<table border=\"1\" class=\"dataframe\">\n",
       "  <thead>\n",
       "    <tr style=\"text-align: right;\">\n",
       "      <th></th>\n",
       "      <th>age</th>\n",
       "      <th>sex</th>\n",
       "      <th>bmi</th>\n",
       "      <th>bp</th>\n",
       "      <th>s1</th>\n",
       "      <th>s2</th>\n",
       "      <th>s3</th>\n",
       "      <th>s4</th>\n",
       "      <th>s5</th>\n",
       "      <th>s6</th>\n",
       "    </tr>\n",
       "  </thead>\n",
       "  <tbody>\n",
       "    <tr>\n",
       "      <th>0</th>\n",
       "      <td>0.038076</td>\n",
       "      <td>0.050680</td>\n",
       "      <td>0.061696</td>\n",
       "      <td>0.021872</td>\n",
       "      <td>-0.044223</td>\n",
       "      <td>-0.034821</td>\n",
       "      <td>-0.043401</td>\n",
       "      <td>-0.002592</td>\n",
       "      <td>0.019908</td>\n",
       "      <td>-0.017646</td>\n",
       "    </tr>\n",
       "    <tr>\n",
       "      <th>1</th>\n",
       "      <td>-0.001882</td>\n",
       "      <td>-0.044642</td>\n",
       "      <td>-0.051474</td>\n",
       "      <td>-0.026328</td>\n",
       "      <td>-0.008449</td>\n",
       "      <td>-0.019163</td>\n",
       "      <td>0.074412</td>\n",
       "      <td>-0.039493</td>\n",
       "      <td>-0.068330</td>\n",
       "      <td>-0.092204</td>\n",
       "    </tr>\n",
       "    <tr>\n",
       "      <th>2</th>\n",
       "      <td>0.085299</td>\n",
       "      <td>0.050680</td>\n",
       "      <td>0.044451</td>\n",
       "      <td>-0.005671</td>\n",
       "      <td>-0.045599</td>\n",
       "      <td>-0.034194</td>\n",
       "      <td>-0.032356</td>\n",
       "      <td>-0.002592</td>\n",
       "      <td>0.002864</td>\n",
       "      <td>-0.025930</td>\n",
       "    </tr>\n",
       "    <tr>\n",
       "      <th>3</th>\n",
       "      <td>-0.089063</td>\n",
       "      <td>-0.044642</td>\n",
       "      <td>-0.011595</td>\n",
       "      <td>-0.036656</td>\n",
       "      <td>0.012191</td>\n",
       "      <td>0.024991</td>\n",
       "      <td>-0.036038</td>\n",
       "      <td>0.034309</td>\n",
       "      <td>0.022692</td>\n",
       "      <td>-0.009362</td>\n",
       "    </tr>\n",
       "    <tr>\n",
       "      <th>4</th>\n",
       "      <td>0.005383</td>\n",
       "      <td>-0.044642</td>\n",
       "      <td>-0.036385</td>\n",
       "      <td>0.021872</td>\n",
       "      <td>0.003935</td>\n",
       "      <td>0.015596</td>\n",
       "      <td>0.008142</td>\n",
       "      <td>-0.002592</td>\n",
       "      <td>-0.031991</td>\n",
       "      <td>-0.046641</td>\n",
       "    </tr>\n",
       "  </tbody>\n",
       "</table>\n",
       "</div>"
      ],
      "text/plain": [
       "        age       sex       bmi        bp        s1        s2        s3  \\\n",
       "0  0.038076  0.050680  0.061696  0.021872 -0.044223 -0.034821 -0.043401   \n",
       "1 -0.001882 -0.044642 -0.051474 -0.026328 -0.008449 -0.019163  0.074412   \n",
       "2  0.085299  0.050680  0.044451 -0.005671 -0.045599 -0.034194 -0.032356   \n",
       "3 -0.089063 -0.044642 -0.011595 -0.036656  0.012191  0.024991 -0.036038   \n",
       "4  0.005383 -0.044642 -0.036385  0.021872  0.003935  0.015596  0.008142   \n",
       "\n",
       "         s4        s5        s6  \n",
       "0 -0.002592  0.019908 -0.017646  \n",
       "1 -0.039493 -0.068330 -0.092204  \n",
       "2 -0.002592  0.002864 -0.025930  \n",
       "3  0.034309  0.022692 -0.009362  \n",
       "4 -0.002592 -0.031991 -0.046641  "
      ]
     },
     "execution_count": 1,
     "metadata": {},
     "output_type": "execute_result"
    }
   ],
   "source": [
    "from sklearn import datasets\n",
    "\n",
    "# This will return a 'Bunch' object\n",
    "# see sklearn.utils.Bunch for details\n",
    "diabetes = datasets.load_diabetes(as_frame=True)\n",
    "\n",
    "# We can return information on the dataset\n",
    "print(diabetes.DESCR)\n",
    "\n",
    "# And view its contents\n",
    "diabetes.data.head()"
   ]
  },
  {
   "cell_type": "markdown",
   "id": "0252f59b",
   "metadata": {},
   "source": [
    "For our purposes, what's most interesting is the structure of this data set.\n",
    "That is, the data is structured in a tabular format,\n",
    "with pre-extracted features of interest.\n",
    "This makes it easier to consider issues such as: which features would we like to predict?\n",
    "Or, how should we handle cross-validation?\n",
    "\n",
    "But if we're starting with neuroimaging data, how can create this kind of structured representation?\n",
    "In this tutorial, we'll use our sample neuroimaging data and a pre-defined functional atlas to derive connectomes that we can use in our subsequent classification analyses.\n",
    "While your extracted features of interest may differ depending on your downstream analyses (e.g., you may want to use a different atlas),\n",
    "this basic structure is useful for a range of research questions!\n",
    "\n",
    "## Neuroimaging data\n",
    "\n",
    "Neuroimaging data does not have a tabular structure.\n",
    "Instead, it has both spatial and temporal dependencies between successive data points.\n",
    "That is, knowing _where_ and _when_ something was measured tells you information about the surrounding data points.\n",
    "\n",
    "We also know that neuroimaging data contains a lot of noise that's not blood-oxygen-level dependent (BOLD), such as head motion.\n",
    "Since we don't think that these other noise sources are related to neuronal firing,\n",
    "we need to consider how we can make sure that our analyses are not driven by these noise sources.\n",
    "\n",
    "These are all considerations that most machine learning software libraries are not designed to deal with!\n",
    "Nilearn therefore plays a crucial role in bringing machine learning concepts to the neuroimaging domain.\n",
    "\n",
    "To get a sense of the problem, the quickest method is to just look at some data.\n",
    "You may have your own data locally that you'd like to work with.\n",
    "Nilearn also provides access to several neuroimaging data sets and atlases (we'll talk about these a bit later).\n",
    "\n",
    "These data sets (and atlases) are only accessible because research groups chose to make their collected data publicly available.\n",
    "We owe them a huge thank you for this!\n",
    "The data set we'll use today was originally collected by [Rebecca Saxe](https://mcgovern.mit.edu/profile/rebecca-saxe/)'s group at MIT and is hosted on [OpenNeuro](https://openneuro.org/datasets/ds000228/versions/1.1.0).\n",
    "\n",
    "The nilearn team preprocessed the data set with [fMRIPrep](https://fmriprep.readthedocs.io) and downsampled it to a lower resolution,\n",
    "so it'd be easier to work with.\n",
    "We can learn a lot about this data set directly [from the Nilearn documentation](https://nilearn.github.io/modules/generated/nilearn.datasets.fetch_development_fmri.html).\n",
    "For example, we can see that this data set contains over 150 children and adults watching a short Pixar film.\n",
    "Let's download just the first 30 participants."
   ]
  },
  {
   "cell_type": "code",
   "execution_count": 2,
   "id": "c4f69882",
   "metadata": {
    "tags": [
     "hide-output"
    ]
   },
   "outputs": [
    {
     "name": "stdout",
     "output_type": "stream",
     "text": [
      "\n",
      "Dataset created in /home/runner/nilearn_data/development_fmri\n",
      "\n",
      "\n",
      "Dataset created in /home/runner/nilearn_data/development_fmri/development_fmri\n",
      "\n",
      "Downloading data from https://osf.io/yr3av/download ...\n"
     ]
    },
    {
     "name": "stderr",
     "output_type": "stream",
     "text": [
      " ...done. (1 seconds, 0 min)\n"
     ]
    },
    {
     "name": "stdout",
     "output_type": "stream",
     "text": [
      "Downloading data from https://osf.io/download/5c8ff3df4712b400183b7092/ ...\n"
     ]
    },
    {
     "name": "stderr",
     "output_type": "stream",
     "text": [
      " ...done. (1 seconds, 0 min)\n"
     ]
    },
    {
     "name": "stdout",
     "output_type": "stream",
     "text": [
      "Downloading data from https://osf.io/download/5c8ff3e04712b400193b5bdf/ ...\n"
     ]
    },
    {
     "name": "stderr",
     "output_type": "stream",
     "text": [
      " ...done. (2 seconds, 0 min)\n"
     ]
    },
    {
     "name": "stdout",
     "output_type": "stream",
     "text": [
      "Downloading data from https://osf.io/download/5c8ff3e14712b400183b7097/ ...\n"
     ]
    },
    {
     "name": "stderr",
     "output_type": "stream",
     "text": [
      " ...done. (1 seconds, 0 min)\n"
     ]
    },
    {
     "name": "stdout",
     "output_type": "stream",
     "text": [
      "Downloading data from https://osf.io/download/5c8ff3e32286e80018c3e42c/ ...\n"
     ]
    },
    {
     "name": "stderr",
     "output_type": "stream",
     "text": [
      " ...done. (1 seconds, 0 min)\n"
     ]
    },
    {
     "name": "stdout",
     "output_type": "stream",
     "text": [
      "Downloading data from https://osf.io/download/5c8ff3e4a743a9001760814f/ ...\n"
     ]
    },
    {
     "name": "stderr",
     "output_type": "stream",
     "text": [
      " ...done. (1 seconds, 0 min)\n"
     ]
    },
    {
     "name": "stdout",
     "output_type": "stream",
     "text": [
      "Downloading data from https://osf.io/download/5c8ff3e54712b400183b70a5/ ...\n"
     ]
    },
    {
     "name": "stderr",
     "output_type": "stream",
     "text": [
      " ...done. (1 seconds, 0 min)\n"
     ]
    },
    {
     "name": "stdout",
     "output_type": "stream",
     "text": [
      "Downloading data from https://osf.io/download/5c8ff3e52286e80018c3e439/ ...\n"
     ]
    },
    {
     "name": "stderr",
     "output_type": "stream",
     "text": [
      " ...done. (1 seconds, 0 min)\n"
     ]
    },
    {
     "name": "stdout",
     "output_type": "stream",
     "text": [
      "Downloading data from https://osf.io/download/5c8ff3e72286e80017c41b3d/ ...\n"
     ]
    },
    {
     "name": "stderr",
     "output_type": "stream",
     "text": [
      " ...done. (1 seconds, 0 min)\n"
     ]
    },
    {
     "name": "stdout",
     "output_type": "stream",
     "text": [
      "Downloading data from https://osf.io/download/5c8ff3e9a743a90017608158/ ...\n"
     ]
    },
    {
     "name": "stderr",
     "output_type": "stream",
     "text": [
      " ...done. (1 seconds, 0 min)\n"
     ]
    },
    {
     "name": "stdout",
     "output_type": "stream",
     "text": [
      "Downloading data from https://osf.io/download/5c8ff3e82286e80018c3e443/ ...\n"
     ]
    },
    {
     "name": "stderr",
     "output_type": "stream",
     "text": [
      " ...done. (2 seconds, 0 min)\n"
     ]
    },
    {
     "name": "stdout",
     "output_type": "stream",
     "text": [
      "Downloading data from https://osf.io/download/5c8ff3ea4712b400183b70b7/ ...\n"
     ]
    },
    {
     "name": "stderr",
     "output_type": "stream",
     "text": [
      " ...done. (1 seconds, 0 min)\n"
     ]
    },
    {
     "name": "stdout",
     "output_type": "stream",
     "text": [
      "Downloading data from https://osf.io/download/5c8ff3eb2286e80019c3c194/ ...\n"
     ]
    },
    {
     "name": "stderr",
     "output_type": "stream",
     "text": [
      " ...done. (1 seconds, 0 min)\n"
     ]
    },
    {
     "name": "stdout",
     "output_type": "stream",
     "text": [
      "Downloading data from https://osf.io/download/5c8ff37da743a90018606df1/ ...\n"
     ]
    },
    {
     "name": "stderr",
     "output_type": "stream",
     "text": [
      " ...done. (1 seconds, 0 min)\n"
     ]
    },
    {
     "name": "stdout",
     "output_type": "stream",
     "text": [
      "Downloading data from https://osf.io/download/5c8ff37c2286e80019c3c102/ ...\n"
     ]
    },
    {
     "name": "stderr",
     "output_type": "stream",
     "text": [
      " ...done. (1 seconds, 0 min)\n"
     ]
    },
    {
     "name": "stdout",
     "output_type": "stream",
     "text": [
      "Downloading data from https://osf.io/download/5cb4701e3992690018133d4f/ ...\n"
     ]
    },
    {
     "name": "stderr",
     "output_type": "stream",
     "text": [
      " ...done. (2 seconds, 0 min)\n"
     ]
    },
    {
     "name": "stdout",
     "output_type": "stream",
     "text": [
      "Downloading data from https://osf.io/download/5cb46e6b353c58001b9cb34f/ ...\n"
     ]
    },
    {
     "name": "stderr",
     "output_type": "stream",
     "text": [
      " ...done. (1 seconds, 0 min)\n"
     ]
    },
    {
     "name": "stdout",
     "output_type": "stream",
     "text": [
      "Downloading data from https://osf.io/download/5c8ff37d4712b400193b5b54/ ...\n"
     ]
    },
    {
     "name": "stderr",
     "output_type": "stream",
     "text": [
      " ...done. (1 seconds, 0 min)\n"
     ]
    },
    {
     "name": "stdout",
     "output_type": "stream",
     "text": [
      "Downloading data from https://osf.io/download/5c8ff37d4712b400183b7011/ ...\n"
     ]
    },
    {
     "name": "stderr",
     "output_type": "stream",
     "text": [
      " ...done. (1 seconds, 0 min)\n"
     ]
    },
    {
     "name": "stdout",
     "output_type": "stream",
     "text": [
      "Downloading data from https://osf.io/download/5c8ff37e2286e80016c3c2cb/ ...\n"
     ]
    },
    {
     "name": "stderr",
     "output_type": "stream",
     "text": [
      " ...done. (1 seconds, 0 min)\n"
     ]
    },
    {
     "name": "stdout",
     "output_type": "stream",
     "text": [
      "Downloading data from https://osf.io/download/5c8ff3832286e80019c3c10f/ ...\n"
     ]
    },
    {
     "name": "stderr",
     "output_type": "stream",
     "text": [
      " ...done. (1 seconds, 0 min)\n"
     ]
    },
    {
     "name": "stdout",
     "output_type": "stream",
     "text": [
      "Downloading data from https://osf.io/download/5c8ff3822286e80018c3e37b/ ...\n"
     ]
    },
    {
     "name": "stderr",
     "output_type": "stream",
     "text": [
      " ...done. (1 seconds, 0 min)\n"
     ]
    },
    {
     "name": "stdout",
     "output_type": "stream",
     "text": [
      "Downloading data from https://osf.io/download/5c8ff382a743a90018606df8/ ...\n"
     ]
    },
    {
     "name": "stderr",
     "output_type": "stream",
     "text": [
      " ...done. (1 seconds, 0 min)\n"
     ]
    },
    {
     "name": "stdout",
     "output_type": "stream",
     "text": [
      "Downloading data from https://osf.io/download/5c8ff3814712b4001a3b5561/ ...\n"
     ]
    },
    {
     "name": "stderr",
     "output_type": "stream",
     "text": [
      " ...done. (2 seconds, 0 min)\n"
     ]
    },
    {
     "name": "stdout",
     "output_type": "stream",
     "text": [
      "Downloading data from https://osf.io/download/5c8ff3832286e80016c3c2d1/ ...\n"
     ]
    },
    {
     "ename": "KeyboardInterrupt",
     "evalue": "",
     "output_type": "error",
     "traceback": [
      "\u001b[0;31m---------------------------------------------------------------------------\u001b[0m",
      "\u001b[0;31mKeyboardInterrupt\u001b[0m                         Traceback (most recent call last)",
      "\u001b[0;32m/tmp/ipykernel_1953/3165695745.py\u001b[0m in \u001b[0;36m<module>\u001b[0;34m\u001b[0m\n\u001b[1;32m      2\u001b[0m \u001b[0;34m\u001b[0m\u001b[0m\n\u001b[1;32m      3\u001b[0m development_dataset = datasets.fetch_development_fmri(\n\u001b[0;32m----> 4\u001b[0;31m     \u001b[0mn_subjects\u001b[0m\u001b[0;34m=\u001b[0m\u001b[0;36m30\u001b[0m\u001b[0;34m,\u001b[0m \u001b[0mreduce_confounds\u001b[0m\u001b[0;34m=\u001b[0m\u001b[0;32mFalse\u001b[0m\u001b[0;34m\u001b[0m\u001b[0;34m\u001b[0m\u001b[0m\n\u001b[0m\u001b[1;32m      5\u001b[0m     )\n",
      "\u001b[0;32m/opt/hostedtoolcache/Python/3.7.13/x64/lib/python3.7/site-packages/nilearn/datasets/func.py\u001b[0m in \u001b[0;36mfetch_development_fmri\u001b[0;34m(n_subjects, reduce_confounds, data_dir, resume, verbose, age_group)\u001b[0m\n\u001b[1;32m   1626\u001b[0m                                                            \u001b[0murl\u001b[0m\u001b[0;34m=\u001b[0m\u001b[0;32mNone\u001b[0m\u001b[0;34m,\u001b[0m\u001b[0;34m\u001b[0m\u001b[0;34m\u001b[0m\u001b[0m\n\u001b[1;32m   1627\u001b[0m                                                            \u001b[0mresume\u001b[0m\u001b[0;34m=\u001b[0m\u001b[0mresume\u001b[0m\u001b[0;34m,\u001b[0m\u001b[0;34m\u001b[0m\u001b[0;34m\u001b[0m\u001b[0m\n\u001b[0;32m-> 1628\u001b[0;31m                                                            verbose=verbose)\n\u001b[0m\u001b[1;32m   1629\u001b[0m \u001b[0;34m\u001b[0m\u001b[0m\n\u001b[1;32m   1630\u001b[0m     \u001b[0;32mif\u001b[0m \u001b[0mreduce_confounds\u001b[0m\u001b[0;34m:\u001b[0m\u001b[0;34m\u001b[0m\u001b[0;34m\u001b[0m\u001b[0m\n",
      "\u001b[0;32m/opt/hostedtoolcache/Python/3.7.13/x64/lib/python3.7/site-packages/nilearn/datasets/func.py\u001b[0m in \u001b[0;36m_fetch_development_fmri_functional\u001b[0;34m(participants, data_dir, url, resume, verbose)\u001b[0m\n\u001b[1;32m   1505\u001b[0m                       {'move': func.format(participant_id)})]\n\u001b[1;32m   1506\u001b[0m         path_to_func = _fetch_files(data_dir, func_file, resume=resume,\n\u001b[0;32m-> 1507\u001b[0;31m                                     verbose=verbose)[0]\n\u001b[0m\u001b[1;32m   1508\u001b[0m         \u001b[0mfuncs\u001b[0m\u001b[0;34m.\u001b[0m\u001b[0mappend\u001b[0m\u001b[0;34m(\u001b[0m\u001b[0mpath_to_func\u001b[0m\u001b[0;34m)\u001b[0m\u001b[0;34m\u001b[0m\u001b[0;34m\u001b[0m\u001b[0m\n\u001b[1;32m   1509\u001b[0m     \u001b[0;32mreturn\u001b[0m \u001b[0mfuncs\u001b[0m\u001b[0;34m,\u001b[0m \u001b[0mregressors\u001b[0m\u001b[0;34m\u001b[0m\u001b[0;34m\u001b[0m\u001b[0m\n",
      "\u001b[0;32m/opt/hostedtoolcache/Python/3.7.13/x64/lib/python3.7/site-packages/nilearn/datasets/utils.py\u001b[0m in \u001b[0;36m_fetch_files\u001b[0;34m(data_dir, files, resume, verbose, session)\u001b[0m\n\u001b[1;32m    711\u001b[0m             return _fetch_files(\n\u001b[1;32m    712\u001b[0m                 \u001b[0mdata_dir\u001b[0m\u001b[0;34m,\u001b[0m \u001b[0mfiles\u001b[0m\u001b[0;34m,\u001b[0m \u001b[0mresume\u001b[0m\u001b[0;34m=\u001b[0m\u001b[0mresume\u001b[0m\u001b[0;34m,\u001b[0m\u001b[0;34m\u001b[0m\u001b[0;34m\u001b[0m\u001b[0m\n\u001b[0;32m--> 713\u001b[0;31m                 verbose=verbose, session=session)\n\u001b[0m\u001b[1;32m    714\u001b[0m     \u001b[0;31m# There are two working directories here:\u001b[0m\u001b[0;34m\u001b[0m\u001b[0;34m\u001b[0m\u001b[0;34m\u001b[0m\u001b[0m\n\u001b[1;32m    715\u001b[0m     \u001b[0;31m# - data_dir is the destination directory of the dataset\u001b[0m\u001b[0;34m\u001b[0m\u001b[0;34m\u001b[0m\u001b[0;34m\u001b[0m\u001b[0m\n",
      "\u001b[0;32m/opt/hostedtoolcache/Python/3.7.13/x64/lib/python3.7/site-packages/nilearn/datasets/utils.py\u001b[0m in \u001b[0;36m_fetch_files\u001b[0;34m(data_dir, files, resume, verbose, session)\u001b[0m\n\u001b[1;32m    762\u001b[0m                                   \u001b[0musername\u001b[0m\u001b[0;34m=\u001b[0m\u001b[0mopts\u001b[0m\u001b[0;34m.\u001b[0m\u001b[0mget\u001b[0m\u001b[0;34m(\u001b[0m\u001b[0;34m'username'\u001b[0m\u001b[0;34m,\u001b[0m \u001b[0;32mNone\u001b[0m\u001b[0;34m)\u001b[0m\u001b[0;34m,\u001b[0m\u001b[0;34m\u001b[0m\u001b[0;34m\u001b[0m\u001b[0m\n\u001b[1;32m    763\u001b[0m                                   \u001b[0mpassword\u001b[0m\u001b[0;34m=\u001b[0m\u001b[0mopts\u001b[0m\u001b[0;34m.\u001b[0m\u001b[0mget\u001b[0m\u001b[0;34m(\u001b[0m\u001b[0;34m'password'\u001b[0m\u001b[0;34m,\u001b[0m \u001b[0;32mNone\u001b[0m\u001b[0;34m)\u001b[0m\u001b[0;34m,\u001b[0m\u001b[0;34m\u001b[0m\u001b[0;34m\u001b[0m\u001b[0m\n\u001b[0;32m--> 764\u001b[0;31m                                   session=session, overwrite=overwrite)\n\u001b[0m\u001b[1;32m    765\u001b[0m             \u001b[0;32mif\u001b[0m \u001b[0;34m'move'\u001b[0m \u001b[0;32min\u001b[0m \u001b[0mopts\u001b[0m\u001b[0;34m:\u001b[0m\u001b[0;34m\u001b[0m\u001b[0;34m\u001b[0m\u001b[0m\n\u001b[1;32m    766\u001b[0m                 \u001b[0;31m# XXX: here, move is supposed to be a dir, it can be a name\u001b[0m\u001b[0;34m\u001b[0m\u001b[0;34m\u001b[0m\u001b[0;34m\u001b[0m\u001b[0m\n",
      "\u001b[0;32m/opt/hostedtoolcache/Python/3.7.13/x64/lib/python3.7/site-packages/nilearn/datasets/utils.py\u001b[0m in \u001b[0;36m_fetch_file\u001b[0;34m(url, data_dir, resume, overwrite, md5sum, username, password, verbose, session)\u001b[0m\n\u001b[1;32m    603\u001b[0m                 \u001b[0;32mwith\u001b[0m \u001b[0mopen\u001b[0m\u001b[0;34m(\u001b[0m\u001b[0mtemp_full_name\u001b[0m\u001b[0;34m,\u001b[0m \u001b[0;34m\"wb\"\u001b[0m\u001b[0;34m)\u001b[0m \u001b[0;32mas\u001b[0m \u001b[0mfh\u001b[0m\u001b[0;34m:\u001b[0m\u001b[0;34m\u001b[0m\u001b[0;34m\u001b[0m\u001b[0m\n\u001b[1;32m    604\u001b[0m                     _chunk_read_(resp, fh, report_hook=(verbose > 0),\n\u001b[0;32m--> 605\u001b[0;31m                                  initial_size=initial_size, verbose=verbose)\n\u001b[0m\u001b[1;32m    606\u001b[0m         \u001b[0mshutil\u001b[0m\u001b[0;34m.\u001b[0m\u001b[0mmove\u001b[0m\u001b[0;34m(\u001b[0m\u001b[0mtemp_full_name\u001b[0m\u001b[0;34m,\u001b[0m \u001b[0mfull_name\u001b[0m\u001b[0;34m)\u001b[0m\u001b[0;34m\u001b[0m\u001b[0;34m\u001b[0m\u001b[0m\n\u001b[1;32m    607\u001b[0m         \u001b[0mdt\u001b[0m \u001b[0;34m=\u001b[0m \u001b[0mtime\u001b[0m\u001b[0;34m.\u001b[0m\u001b[0mtime\u001b[0m\u001b[0;34m(\u001b[0m\u001b[0;34m)\u001b[0m \u001b[0;34m-\u001b[0m \u001b[0mt0\u001b[0m\u001b[0;34m\u001b[0m\u001b[0;34m\u001b[0m\u001b[0m\n",
      "\u001b[0;32m/opt/hostedtoolcache/Python/3.7.13/x64/lib/python3.7/site-packages/nilearn/datasets/utils.py\u001b[0m in \u001b[0;36m_chunk_read_\u001b[0;34m(response, local_file, chunk_size, report_hook, initial_size, total_size, verbose)\u001b[0m\n\u001b[1;32m    164\u001b[0m \u001b[0;34m\u001b[0m\u001b[0m\n\u001b[1;32m    165\u001b[0m     \u001b[0mt0\u001b[0m \u001b[0;34m=\u001b[0m \u001b[0mtime_last_display\u001b[0m \u001b[0;34m=\u001b[0m \u001b[0mtime\u001b[0m\u001b[0;34m.\u001b[0m\u001b[0mtime\u001b[0m\u001b[0;34m(\u001b[0m\u001b[0;34m)\u001b[0m\u001b[0;34m\u001b[0m\u001b[0;34m\u001b[0m\u001b[0m\n\u001b[0;32m--> 166\u001b[0;31m     \u001b[0;32mfor\u001b[0m \u001b[0mchunk\u001b[0m \u001b[0;32min\u001b[0m \u001b[0mresponse\u001b[0m\u001b[0;34m.\u001b[0m\u001b[0miter_content\u001b[0m\u001b[0;34m(\u001b[0m\u001b[0mchunk_size\u001b[0m\u001b[0;34m)\u001b[0m\u001b[0;34m:\u001b[0m\u001b[0;34m\u001b[0m\u001b[0;34m\u001b[0m\u001b[0m\n\u001b[0m\u001b[1;32m    167\u001b[0m         \u001b[0mbytes_so_far\u001b[0m \u001b[0;34m+=\u001b[0m \u001b[0mlen\u001b[0m\u001b[0;34m(\u001b[0m\u001b[0mchunk\u001b[0m\u001b[0;34m)\u001b[0m\u001b[0;34m\u001b[0m\u001b[0;34m\u001b[0m\u001b[0m\n\u001b[1;32m    168\u001b[0m         \u001b[0mtime_last_read\u001b[0m \u001b[0;34m=\u001b[0m \u001b[0mtime\u001b[0m\u001b[0;34m.\u001b[0m\u001b[0mtime\u001b[0m\u001b[0;34m(\u001b[0m\u001b[0;34m)\u001b[0m\u001b[0;34m\u001b[0m\u001b[0;34m\u001b[0m\u001b[0m\n",
      "\u001b[0;32m/opt/hostedtoolcache/Python/3.7.13/x64/lib/python3.7/site-packages/requests/models.py\u001b[0m in \u001b[0;36mgenerate\u001b[0;34m()\u001b[0m\n\u001b[1;32m    758\u001b[0m             \u001b[0;32mif\u001b[0m \u001b[0mhasattr\u001b[0m\u001b[0;34m(\u001b[0m\u001b[0mself\u001b[0m\u001b[0;34m.\u001b[0m\u001b[0mraw\u001b[0m\u001b[0;34m,\u001b[0m \u001b[0;34m'stream'\u001b[0m\u001b[0;34m)\u001b[0m\u001b[0;34m:\u001b[0m\u001b[0;34m\u001b[0m\u001b[0;34m\u001b[0m\u001b[0m\n\u001b[1;32m    759\u001b[0m                 \u001b[0;32mtry\u001b[0m\u001b[0;34m:\u001b[0m\u001b[0;34m\u001b[0m\u001b[0;34m\u001b[0m\u001b[0m\n\u001b[0;32m--> 760\u001b[0;31m                     \u001b[0;32mfor\u001b[0m \u001b[0mchunk\u001b[0m \u001b[0;32min\u001b[0m \u001b[0mself\u001b[0m\u001b[0;34m.\u001b[0m\u001b[0mraw\u001b[0m\u001b[0;34m.\u001b[0m\u001b[0mstream\u001b[0m\u001b[0;34m(\u001b[0m\u001b[0mchunk_size\u001b[0m\u001b[0;34m,\u001b[0m \u001b[0mdecode_content\u001b[0m\u001b[0;34m=\u001b[0m\u001b[0;32mTrue\u001b[0m\u001b[0;34m)\u001b[0m\u001b[0;34m:\u001b[0m\u001b[0;34m\u001b[0m\u001b[0;34m\u001b[0m\u001b[0m\n\u001b[0m\u001b[1;32m    761\u001b[0m                         \u001b[0;32myield\u001b[0m \u001b[0mchunk\u001b[0m\u001b[0;34m\u001b[0m\u001b[0;34m\u001b[0m\u001b[0m\n\u001b[1;32m    762\u001b[0m                 \u001b[0;32mexcept\u001b[0m \u001b[0mProtocolError\u001b[0m \u001b[0;32mas\u001b[0m \u001b[0me\u001b[0m\u001b[0;34m:\u001b[0m\u001b[0;34m\u001b[0m\u001b[0;34m\u001b[0m\u001b[0m\n",
      "\u001b[0;32m/opt/hostedtoolcache/Python/3.7.13/x64/lib/python3.7/site-packages/urllib3/response.py\u001b[0m in \u001b[0;36mstream\u001b[0;34m(self, amt, decode_content)\u001b[0m\n\u001b[1;32m    577\u001b[0m         \u001b[0;32melse\u001b[0m\u001b[0;34m:\u001b[0m\u001b[0;34m\u001b[0m\u001b[0;34m\u001b[0m\u001b[0m\n\u001b[1;32m    578\u001b[0m             \u001b[0;32mwhile\u001b[0m \u001b[0;32mnot\u001b[0m \u001b[0mis_fp_closed\u001b[0m\u001b[0;34m(\u001b[0m\u001b[0mself\u001b[0m\u001b[0;34m.\u001b[0m\u001b[0m_fp\u001b[0m\u001b[0;34m)\u001b[0m\u001b[0;34m:\u001b[0m\u001b[0;34m\u001b[0m\u001b[0;34m\u001b[0m\u001b[0m\n\u001b[0;32m--> 579\u001b[0;31m                 \u001b[0mdata\u001b[0m \u001b[0;34m=\u001b[0m \u001b[0mself\u001b[0m\u001b[0;34m.\u001b[0m\u001b[0mread\u001b[0m\u001b[0;34m(\u001b[0m\u001b[0mamt\u001b[0m\u001b[0;34m=\u001b[0m\u001b[0mamt\u001b[0m\u001b[0;34m,\u001b[0m \u001b[0mdecode_content\u001b[0m\u001b[0;34m=\u001b[0m\u001b[0mdecode_content\u001b[0m\u001b[0;34m)\u001b[0m\u001b[0;34m\u001b[0m\u001b[0;34m\u001b[0m\u001b[0m\n\u001b[0m\u001b[1;32m    580\u001b[0m \u001b[0;34m\u001b[0m\u001b[0m\n\u001b[1;32m    581\u001b[0m                 \u001b[0;32mif\u001b[0m \u001b[0mdata\u001b[0m\u001b[0;34m:\u001b[0m\u001b[0;34m\u001b[0m\u001b[0;34m\u001b[0m\u001b[0m\n",
      "\u001b[0;32m/opt/hostedtoolcache/Python/3.7.13/x64/lib/python3.7/site-packages/urllib3/response.py\u001b[0m in \u001b[0;36mread\u001b[0;34m(self, amt, decode_content, cache_content)\u001b[0m\n\u001b[1;32m    520\u001b[0m             \u001b[0;32melse\u001b[0m\u001b[0;34m:\u001b[0m\u001b[0;34m\u001b[0m\u001b[0;34m\u001b[0m\u001b[0m\n\u001b[1;32m    521\u001b[0m                 \u001b[0mcache_content\u001b[0m \u001b[0;34m=\u001b[0m \u001b[0;32mFalse\u001b[0m\u001b[0;34m\u001b[0m\u001b[0;34m\u001b[0m\u001b[0m\n\u001b[0;32m--> 522\u001b[0;31m                 \u001b[0mdata\u001b[0m \u001b[0;34m=\u001b[0m \u001b[0mself\u001b[0m\u001b[0;34m.\u001b[0m\u001b[0m_fp\u001b[0m\u001b[0;34m.\u001b[0m\u001b[0mread\u001b[0m\u001b[0;34m(\u001b[0m\u001b[0mamt\u001b[0m\u001b[0;34m)\u001b[0m \u001b[0;32mif\u001b[0m \u001b[0;32mnot\u001b[0m \u001b[0mfp_closed\u001b[0m \u001b[0;32melse\u001b[0m \u001b[0;34mb\"\"\u001b[0m\u001b[0;34m\u001b[0m\u001b[0;34m\u001b[0m\u001b[0m\n\u001b[0m\u001b[1;32m    523\u001b[0m                 if (\n\u001b[1;32m    524\u001b[0m                     \u001b[0mamt\u001b[0m \u001b[0;34m!=\u001b[0m \u001b[0;36m0\u001b[0m \u001b[0;32mand\u001b[0m \u001b[0;32mnot\u001b[0m \u001b[0mdata\u001b[0m\u001b[0;34m\u001b[0m\u001b[0;34m\u001b[0m\u001b[0m\n",
      "\u001b[0;32m/opt/hostedtoolcache/Python/3.7.13/x64/lib/python3.7/http/client.py\u001b[0m in \u001b[0;36mread\u001b[0;34m(self, amt)\u001b[0m\n\u001b[1;32m    463\u001b[0m             \u001b[0;31m# Amount is given, implement using readinto\u001b[0m\u001b[0;34m\u001b[0m\u001b[0;34m\u001b[0m\u001b[0;34m\u001b[0m\u001b[0m\n\u001b[1;32m    464\u001b[0m             \u001b[0mb\u001b[0m \u001b[0;34m=\u001b[0m \u001b[0mbytearray\u001b[0m\u001b[0;34m(\u001b[0m\u001b[0mamt\u001b[0m\u001b[0;34m)\u001b[0m\u001b[0;34m\u001b[0m\u001b[0;34m\u001b[0m\u001b[0m\n\u001b[0;32m--> 465\u001b[0;31m             \u001b[0mn\u001b[0m \u001b[0;34m=\u001b[0m \u001b[0mself\u001b[0m\u001b[0;34m.\u001b[0m\u001b[0mreadinto\u001b[0m\u001b[0;34m(\u001b[0m\u001b[0mb\u001b[0m\u001b[0;34m)\u001b[0m\u001b[0;34m\u001b[0m\u001b[0;34m\u001b[0m\u001b[0m\n\u001b[0m\u001b[1;32m    466\u001b[0m             \u001b[0;32mreturn\u001b[0m \u001b[0mmemoryview\u001b[0m\u001b[0;34m(\u001b[0m\u001b[0mb\u001b[0m\u001b[0;34m)\u001b[0m\u001b[0;34m[\u001b[0m\u001b[0;34m:\u001b[0m\u001b[0mn\u001b[0m\u001b[0;34m]\u001b[0m\u001b[0;34m.\u001b[0m\u001b[0mtobytes\u001b[0m\u001b[0;34m(\u001b[0m\u001b[0;34m)\u001b[0m\u001b[0;34m\u001b[0m\u001b[0;34m\u001b[0m\u001b[0m\n\u001b[1;32m    467\u001b[0m         \u001b[0;32melse\u001b[0m\u001b[0;34m:\u001b[0m\u001b[0;34m\u001b[0m\u001b[0;34m\u001b[0m\u001b[0m\n",
      "\u001b[0;32m/opt/hostedtoolcache/Python/3.7.13/x64/lib/python3.7/http/client.py\u001b[0m in \u001b[0;36mreadinto\u001b[0;34m(self, b)\u001b[0m\n\u001b[1;32m    507\u001b[0m         \u001b[0;31m# connection, and the user is reading more bytes than will be provided\u001b[0m\u001b[0;34m\u001b[0m\u001b[0;34m\u001b[0m\u001b[0;34m\u001b[0m\u001b[0m\n\u001b[1;32m    508\u001b[0m         \u001b[0;31m# (for example, reading in 1k chunks)\u001b[0m\u001b[0;34m\u001b[0m\u001b[0;34m\u001b[0m\u001b[0;34m\u001b[0m\u001b[0m\n\u001b[0;32m--> 509\u001b[0;31m         \u001b[0mn\u001b[0m \u001b[0;34m=\u001b[0m \u001b[0mself\u001b[0m\u001b[0;34m.\u001b[0m\u001b[0mfp\u001b[0m\u001b[0;34m.\u001b[0m\u001b[0mreadinto\u001b[0m\u001b[0;34m(\u001b[0m\u001b[0mb\u001b[0m\u001b[0;34m)\u001b[0m\u001b[0;34m\u001b[0m\u001b[0;34m\u001b[0m\u001b[0m\n\u001b[0m\u001b[1;32m    510\u001b[0m         \u001b[0;32mif\u001b[0m \u001b[0;32mnot\u001b[0m \u001b[0mn\u001b[0m \u001b[0;32mand\u001b[0m \u001b[0mb\u001b[0m\u001b[0;34m:\u001b[0m\u001b[0;34m\u001b[0m\u001b[0;34m\u001b[0m\u001b[0m\n\u001b[1;32m    511\u001b[0m             \u001b[0;31m# Ideally, we would raise IncompleteRead if the content-length\u001b[0m\u001b[0;34m\u001b[0m\u001b[0;34m\u001b[0m\u001b[0;34m\u001b[0m\u001b[0m\n",
      "\u001b[0;32m/opt/hostedtoolcache/Python/3.7.13/x64/lib/python3.7/socket.py\u001b[0m in \u001b[0;36mreadinto\u001b[0;34m(self, b)\u001b[0m\n\u001b[1;32m    587\u001b[0m         \u001b[0;32mwhile\u001b[0m \u001b[0;32mTrue\u001b[0m\u001b[0;34m:\u001b[0m\u001b[0;34m\u001b[0m\u001b[0;34m\u001b[0m\u001b[0m\n\u001b[1;32m    588\u001b[0m             \u001b[0;32mtry\u001b[0m\u001b[0;34m:\u001b[0m\u001b[0;34m\u001b[0m\u001b[0;34m\u001b[0m\u001b[0m\n\u001b[0;32m--> 589\u001b[0;31m                 \u001b[0;32mreturn\u001b[0m \u001b[0mself\u001b[0m\u001b[0;34m.\u001b[0m\u001b[0m_sock\u001b[0m\u001b[0;34m.\u001b[0m\u001b[0mrecv_into\u001b[0m\u001b[0;34m(\u001b[0m\u001b[0mb\u001b[0m\u001b[0;34m)\u001b[0m\u001b[0;34m\u001b[0m\u001b[0;34m\u001b[0m\u001b[0m\n\u001b[0m\u001b[1;32m    590\u001b[0m             \u001b[0;32mexcept\u001b[0m \u001b[0mtimeout\u001b[0m\u001b[0;34m:\u001b[0m\u001b[0;34m\u001b[0m\u001b[0;34m\u001b[0m\u001b[0m\n\u001b[1;32m    591\u001b[0m                 \u001b[0mself\u001b[0m\u001b[0;34m.\u001b[0m\u001b[0m_timeout_occurred\u001b[0m \u001b[0;34m=\u001b[0m \u001b[0;32mTrue\u001b[0m\u001b[0;34m\u001b[0m\u001b[0;34m\u001b[0m\u001b[0m\n",
      "\u001b[0;32m/opt/hostedtoolcache/Python/3.7.13/x64/lib/python3.7/ssl.py\u001b[0m in \u001b[0;36mrecv_into\u001b[0;34m(self, buffer, nbytes, flags)\u001b[0m\n\u001b[1;32m   1069\u001b[0m                   \u001b[0;34m\"non-zero flags not allowed in calls to recv_into() on %s\"\u001b[0m \u001b[0;34m%\u001b[0m\u001b[0;34m\u001b[0m\u001b[0;34m\u001b[0m\u001b[0m\n\u001b[1;32m   1070\u001b[0m                   self.__class__)\n\u001b[0;32m-> 1071\u001b[0;31m             \u001b[0;32mreturn\u001b[0m \u001b[0mself\u001b[0m\u001b[0;34m.\u001b[0m\u001b[0mread\u001b[0m\u001b[0;34m(\u001b[0m\u001b[0mnbytes\u001b[0m\u001b[0;34m,\u001b[0m \u001b[0mbuffer\u001b[0m\u001b[0;34m)\u001b[0m\u001b[0;34m\u001b[0m\u001b[0;34m\u001b[0m\u001b[0m\n\u001b[0m\u001b[1;32m   1072\u001b[0m         \u001b[0;32melse\u001b[0m\u001b[0;34m:\u001b[0m\u001b[0;34m\u001b[0m\u001b[0;34m\u001b[0m\u001b[0m\n\u001b[1;32m   1073\u001b[0m             \u001b[0;32mreturn\u001b[0m \u001b[0msuper\u001b[0m\u001b[0;34m(\u001b[0m\u001b[0;34m)\u001b[0m\u001b[0;34m.\u001b[0m\u001b[0mrecv_into\u001b[0m\u001b[0;34m(\u001b[0m\u001b[0mbuffer\u001b[0m\u001b[0;34m,\u001b[0m \u001b[0mnbytes\u001b[0m\u001b[0;34m,\u001b[0m \u001b[0mflags\u001b[0m\u001b[0;34m)\u001b[0m\u001b[0;34m\u001b[0m\u001b[0;34m\u001b[0m\u001b[0m\n",
      "\u001b[0;32m/opt/hostedtoolcache/Python/3.7.13/x64/lib/python3.7/ssl.py\u001b[0m in \u001b[0;36mread\u001b[0;34m(self, len, buffer)\u001b[0m\n\u001b[1;32m    927\u001b[0m         \u001b[0;32mtry\u001b[0m\u001b[0;34m:\u001b[0m\u001b[0;34m\u001b[0m\u001b[0;34m\u001b[0m\u001b[0m\n\u001b[1;32m    928\u001b[0m             \u001b[0;32mif\u001b[0m \u001b[0mbuffer\u001b[0m \u001b[0;32mis\u001b[0m \u001b[0;32mnot\u001b[0m \u001b[0;32mNone\u001b[0m\u001b[0;34m:\u001b[0m\u001b[0;34m\u001b[0m\u001b[0;34m\u001b[0m\u001b[0m\n\u001b[0;32m--> 929\u001b[0;31m                 \u001b[0;32mreturn\u001b[0m \u001b[0mself\u001b[0m\u001b[0;34m.\u001b[0m\u001b[0m_sslobj\u001b[0m\u001b[0;34m.\u001b[0m\u001b[0mread\u001b[0m\u001b[0;34m(\u001b[0m\u001b[0mlen\u001b[0m\u001b[0;34m,\u001b[0m \u001b[0mbuffer\u001b[0m\u001b[0;34m)\u001b[0m\u001b[0;34m\u001b[0m\u001b[0;34m\u001b[0m\u001b[0m\n\u001b[0m\u001b[1;32m    930\u001b[0m             \u001b[0;32melse\u001b[0m\u001b[0;34m:\u001b[0m\u001b[0;34m\u001b[0m\u001b[0;34m\u001b[0m\u001b[0m\n\u001b[1;32m    931\u001b[0m                 \u001b[0;32mreturn\u001b[0m \u001b[0mself\u001b[0m\u001b[0;34m.\u001b[0m\u001b[0m_sslobj\u001b[0m\u001b[0;34m.\u001b[0m\u001b[0mread\u001b[0m\u001b[0;34m(\u001b[0m\u001b[0mlen\u001b[0m\u001b[0;34m)\u001b[0m\u001b[0;34m\u001b[0m\u001b[0;34m\u001b[0m\u001b[0m\n",
      "\u001b[0;31mKeyboardInterrupt\u001b[0m: "
     ]
    }
   ],
   "source": [
    "from nilearn import datasets\n",
    "\n",
    "development_dataset = datasets.fetch_development_fmri(\n",
    "    n_subjects=30, reduce_confounds=False\n",
    "    )"
   ]
  },
  {
   "cell_type": "markdown",
   "id": "fb7ea24b",
   "metadata": {},
   "source": [
    "Now, this `development_dataset` object has several attributes which provide access to the relevant information.\n",
    "For example, `development_dataset.phenotypic` provides access to information about the participants, such as whether they were children or adults.\n",
    "We can use `development_dataset.func` to access the functional MRI (fMRI) data.\n",
    "\n",
    "Let's use the [nibabel library](https://nipy.org/nibabel/) to learn a little bit about one image from this dataset:"
   ]
  },
  {
   "cell_type": "code",
   "execution_count": null,
   "id": "4aab042c",
   "metadata": {},
   "outputs": [],
   "source": [
    "import nibabel as nib\n",
    "\n",
    "# Subset to just the first image\n",
    "img = nib.load(development_dataset.func[0])\n",
    "img.shape"
   ]
  },
  {
   "cell_type": "markdown",
   "id": "e3ad7af6",
   "metadata": {},
   "source": [
    "This means that in this fMRI image, there are 168 volumes, each with a 3D structure of (50, 59, 50).\n",
    "\n",
    "## Getting into the data: subsetting and viewing\n",
    "\n",
    "Nilearn provides many methods for plotting this kind of data.\n",
    "For example, we can use [`nilearn.plotting.view_img`](https://nilearn.github.io/modules/generated/nilearn.plotting.view_img.html) to launch at interactive viewer.\n",
    "Because each fMRI run is a 4D time series (three spatial dimensions plus time),\n",
    "we'll also need to subset the data when we plot it, so that we can look at a single 3D image.\n",
    "\n",
    "Nilearn provides (at least) two ways to do this: with [`nilearn.image.index_img`](https://nilearn.github.io/modules/generated/nilearn.image.index_img.html),\n",
    "which allows us to index a particular frame--or several frames--of a time series,\n",
    "and [`nilearn.image.mean_img`](https://nilearn.github.io/modules/generated/nilearn.image.mean_img.html),\n",
    "which allows us to take the mean 3D image over time.\n",
    "\n",
    "Let's interatively view the mean image of the first participant using:"
   ]
  },
  {
   "cell_type": "code",
   "execution_count": null,
   "id": "85acd981",
   "metadata": {},
   "outputs": [],
   "source": [
    "import matplotlib.pyplot as plt\n",
    "from nilearn import image\n",
    "from nilearn import plotting\n",
    "\n",
    "mean_image = image.mean_img(development_dataset.func[0])\n",
    "plotting.view_img(mean_image, threshold=None)"
   ]
  },
  {
   "cell_type": "markdown",
   "id": "a88e5113",
   "metadata": {},
   "source": [
    "## Extracting signal from fMRI volumes\n",
    "\n",
    "As you can see, this data is decidedly not tabular!\n",
    "What we'd like is to extract and transform meaningful features from this data,\n",
    "and store it in a format that we can easily work with.\n",
    "We'll also need to correct this data for known confounds--as mentioned before--but we'll come back to that idea.\n",
    "\n",
    "Importantly, we _could_ work with the full time series directly.\n",
    "But we often want to reduce the dimensionality of our data in a structured way.\n",
    "That is, we may only want to consider signal within certain learned or pre-defined regions of interest (ROIs),\n",
    "and when taking into account known sources of noise.\n",
    "To do this, we'll use nilearn's Masker objects.\n",
    "\n",
    "### What are the masker objects?\n",
    "\n",
    "First, let's think about what masking fMRI data is doing:\n",
    "\n",
    "```{figure} ../images/masking.jpg\n",
    "---\n",
    "height: 350px\n",
    "name: masking\n",
    "---\n",
    "Masking fMRI data.\n",
    "```\n",
    "\n",
    "Essentially, we can imagine overlaying a 3D grid on an image.\n",
    "Then, our mask tells us which cubes or “voxels” (like 3D pixels) to sample from.\n",
    "Since our Nifti images are 4D files, we can’t overlay a single grid –\n",
    "instead, we use a series of 3D grids (one for each volume in the 4D file),\n",
    "so we can get a measurement for each voxel at each timepoint.\n",
    "\n",
    "Masker objects allow us to apply these masks!\n",
    "To start, we need to define a mask (or masks) that we'd like to apply.\n",
    "This could correspond to one or many regions of interest.\n",
    "Nilearn provides methods to define your own functional parcellation (using clustering algorithms such as _k-means_),\n",
    "and it also provides access to other atlases that have previously been defined by researchers.\n",
    "\n",
    "## Choosing regions of interest\n",
    "\n",
    "In this tutorial,\n",
    "we'll use the MSDL (multi-subject dictionary learning; {cite}`Varoquaux_2011`) atlas,\n",
    "which defines a set of _probabilistic_ ROIs across the brain."
   ]
  },
  {
   "cell_type": "code",
   "execution_count": null,
   "id": "ce082071",
   "metadata": {},
   "outputs": [],
   "source": [
    "import numpy as np\n",
    "\n",
    "msdl_atlas = datasets.fetch_atlas_msdl()\n",
    "\n",
    "msdl_coords = msdl_atlas.region_coords\n",
    "n_regions = len(msdl_coords)\n",
    "\n",
    "print(f'MSDL has {n_regions} ROIs, part of the following networks :\\n{np.unique(msdl_atlas.networks)}.')"
   ]
  },
  {
   "cell_type": "markdown",
   "id": "0a661b00",
   "metadata": {},
   "source": [
    "Nilearn ships with several atlases commonly used in the field,\n",
    "including the Schaefer atlas {cite}`Schaefer_2018` and the Harvard-Oxford atlas.\n",
    "\n",
    "It also provides us with easy ways to view these atlases directly.\n",
    "Because MSDL is a probabilistic atlas, we can view it using:"
   ]
  },
  {
   "cell_type": "code",
   "execution_count": null,
   "id": "646535d3",
   "metadata": {},
   "outputs": [],
   "source": [
    "plotting.plot_prob_atlas(msdl_atlas.maps)"
   ]
  },
  {
   "cell_type": "markdown",
   "id": "54355517",
   "metadata": {},
   "source": [
    "## A quick side-note on the NiftiMasker zoo\n",
    "\n",
    "We'd like to supply these ROIs to a Masker object.\n",
    "All Masker objects share the same basic structure and functionality,\n",
    "but each is designed to work with a different kind of ROI.\n",
    "\n",
    "The canonical [`nilearn.input_data.NiftiMasker`](https://nilearn.github.io/modules/generated/nilearn.input_data.NiftiMasker.html) works well if we want to apply a single mask to the data,\n",
    "like a single region of interest.\n",
    "\n",
    "But what if we actually have several ROIs that we'd like to apply to the data all at once?\n",
    "If these ROIs are non-overlapping,\n",
    "as in \"hard\" or deterministic parcellations,\n",
    "then we can use [`nilearn.input_data.NiftiLabelsMasker`](https://nilearn.github.io/modules/generated/nilearn.input_data.NiftiLabelsMasker.html).\n",
    "Because we're working with \"soft\" or probabilistic ROIs,\n",
    "we can instead supply these ROIs to [`nilearn.input_data.NiftiMapsMasker`](https://nilearn.github.io/modules/generated/nilearn.input_data.NiftiMapsMasker.html).\n",
    "\n",
    "For a full list of the available Masker objects,\n",
    "see [the Nilearn documentation](https://nilearn.github.io/modules/reference.html#module-nilearn.input_data).\n",
    "\n",
    "## Applying a Masker object\n",
    "\n",
    "We can supply our MSDL atlas-defined ROIs to the `NiftiMapsMasker` object,\n",
    "along with resampling, filtering, and detrending parameters."
   ]
  },
  {
   "cell_type": "code",
   "execution_count": null,
   "id": "cd6e1040",
   "metadata": {},
   "outputs": [],
   "source": [
    "from nilearn import input_data\n",
    "\n",
    "masker = input_data.NiftiMapsMasker(\n",
    "    msdl_atlas.maps, resampling_target=\"data\",\n",
    "    t_r=2, detrend=True,\n",
    "    low_pass=0.1, high_pass=0.01).fit()"
   ]
  },
  {
   "cell_type": "markdown",
   "id": "7364131f",
   "metadata": {},
   "source": [
    "One thing you might notice from the above code is that immediately after defining the masker object,\n",
    "we call the `.fit` method on it.\n",
    "This method may look familiar if you've previously worked with scikit-learn estimators!\n",
    "\n",
    "You'll note that we're not supplying any data to this `.fit` method;\n",
    "that's because we're fitting the Masker to the provided ROIs, rather than to our data.\n",
    "\n",
    "## Dimensions, dimensions\n",
    "\n",
    "We can now use this fitted masker to transform our data."
   ]
  },
  {
   "cell_type": "code",
   "execution_count": null,
   "id": "cecf0bfa",
   "metadata": {},
   "outputs": [],
   "source": [
    "roi_time_series = masker.transform(development_dataset.func[0])\n",
    "roi_time_series.shape"
   ]
  },
  {
   "cell_type": "markdown",
   "id": "32c37e29",
   "metadata": {},
   "source": [
    "If you'll remember, when we first looked at the data its original dimensions were (50, 59, 50, 168).\n",
    "Now, it has a shape of (168, 39).\n",
    "What happened?!\n",
    "\n",
    "Rather than providing information on every voxel within our original 3D grid,\n",
    "we're now only considering those voxels that fall in our 39 regions of interest provided by the MSDL atlas and aggregating across voxels within those ROIS.\n",
    "This reduces each 3D volume from a dimensionality of (50, 59, 50) to just 39,\n",
    "for our 39 provided ROIs.\n",
    "\n",
    "You'll also see that the \"dimensions flipped;\"\n",
    "that is, that we've transposed the matrix such that time is now the first rather than second dimension.\n",
    "This follows the scikit-learn convention that rows in a data matrix are _samples_,\n",
    "and columns in a data matrix are _features_.\n",
    "\n",
    "```{figure} ../images/samples-features.png\n",
    "---\n",
    "height: 250px\n",
    "name: samples-features\n",
    "---\n",
    "The scikit-learn conventions for feature and target matrices.\n",
    "From Jake VanderPlas's _Python Data Science Handbook_.\n",
    "```\n",
    "\n",
    "One of the nice things about working with nilearn is that it will impose this convention for you,\n",
    "so you don't accidentally flip your dimensions when using a scikit-learn model!\n",
    "\n",
    "## Creating and viewing a connectome\n",
    "\n",
    "The simplest and most commonly used kind of functional connectivity is pairwise correlation between ROIs.\n",
    "We can estimate it using [`nilearn.connectome.ConnectivityMeasure`](https://nilearn.github.io/modules/generated/nilearn.connectome.ConnectivityMeasure.html)."
   ]
  },
  {
   "cell_type": "code",
   "execution_count": null,
   "id": "23aa7fe8",
   "metadata": {},
   "outputs": [],
   "source": [
    "from nilearn.connectome import ConnectivityMeasure\n",
    "\n",
    "correlation_measure = ConnectivityMeasure(kind='correlation')\n",
    "correlation_matrix = correlation_measure.fit_transform([roi_time_series])[0]"
   ]
  },
  {
   "cell_type": "markdown",
   "id": "2cb81f9e",
   "metadata": {},
   "source": [
    "We can then plot this functional connectivity matrix:"
   ]
  },
  {
   "cell_type": "code",
   "execution_count": null,
   "id": "1f3a838c",
   "metadata": {},
   "outputs": [],
   "source": [
    "np.fill_diagonal(correlation_matrix, 0)\n",
    "plotting.plot_matrix(correlation_matrix, labels=msdl_atlas.labels,\n",
    "                     vmax=0.8, vmin=-0.8, colorbar=True)"
   ]
  },
  {
   "cell_type": "markdown",
   "id": "6e140842",
   "metadata": {},
   "source": [
    "Or view it as an embedded connectome:"
   ]
  },
  {
   "cell_type": "code",
   "execution_count": null,
   "id": "c06c1636",
   "metadata": {},
   "outputs": [],
   "source": [
    "plotting.view_connectome(correlation_matrix, edge_threshold=0.2,\n",
    "                         node_coords=msdl_atlas.region_coords)"
   ]
  },
  {
   "cell_type": "markdown",
   "id": "8bd2cb79",
   "metadata": {},
   "source": [
    "## Accounting for noise sources\n",
    "\n",
    "As we've already seen,\n",
    "maskers also allow us to perform other useful operations beyond just masking our data.\n",
    "One important processing step is correcting for measured signals of no interest (e.g., head motion).\n",
    "Our `development_dataset` also includes several of these signals of no interest that were generated during fMRIPrep pre-processing.\n",
    "We can access these with the `confounds` attribute,\n",
    "using `development_dataset.confounds`.\n",
    "\n",
    "Let's quickly check what these look like for our first participant:"
   ]
  },
  {
   "cell_type": "code",
   "execution_count": null,
   "id": "2374f6c3",
   "metadata": {},
   "outputs": [],
   "source": [
    "pd.read_table(development_dataset.confounds[0]).head()"
   ]
  },
  {
   "cell_type": "markdown",
   "id": "ca5f3c8b",
   "metadata": {},
   "source": [
    "We can see that there are several different kinds of noise sources included!\n",
    "From [version 0.9.0](https://nilearn.github.io/stable/changes/whats_new.html#id101), Nilearn now includes a `load_confounds` functionality to parse these fMRIPrep-generated confounds in a sensible way."
   ]
  },
  {
   "cell_type": "code",
   "execution_count": null,
   "id": "1663839d",
   "metadata": {},
   "outputs": [],
   "source": [
    "from nilearn.interfaces import fmriprep\n",
    "confounds, _ = fmriprep.load_confounds_strategy(\n",
    "    imgs=development_dataset.func,\n",
    "    denoise_strategy='simple')"
   ]
  },
  {
   "cell_type": "markdown",
   "id": "98859dc4",
   "metadata": {},
   "source": [
    "Importantly, we can pass these confounds directly to our masker object:"
   ]
  },
  {
   "cell_type": "code",
   "execution_count": null,
   "id": "7ca3331b",
   "metadata": {},
   "outputs": [],
   "source": [
    "corrected_roi_time_series = masker.transform(\n",
    "    development_dataset.func[0], confounds=confounds[0])\n",
    "corrected_correlation_matrix = correlation_measure.fit_transform(\n",
    "    [corrected_roi_time_series])[0]\n",
    "np.fill_diagonal(corrected_correlation_matrix, 0)\n",
    "plotting.plot_matrix(corrected_correlation_matrix, labels=msdl_atlas.labels,\n",
    "                     vmax=0.8, vmin=-0.8, colorbar=True)"
   ]
  },
  {
   "cell_type": "markdown",
   "id": "f52e29e2",
   "metadata": {},
   "source": [
    "As before, we can also view this functional connectivity matrix as a connectome:"
   ]
  },
  {
   "cell_type": "code",
   "execution_count": null,
   "id": "0bf2c438",
   "metadata": {},
   "outputs": [],
   "source": [
    "plotting.view_connectome(corrected_correlation_matrix, edge_threshold=0.2,\n",
    "                         node_coords=msdl_atlas.region_coords)"
   ]
  },
  {
   "cell_type": "markdown",
   "id": "0b2bcf65",
   "metadata": {},
   "source": [
    "In both the matrix and connectome forms,\n",
    "we can see a big difference when including the confounds!\n",
    "This is an important reminder to make sure that your data are cleaned of any possible sources of noise _before_ running a machine learning analysis.\n",
    "Otherwise, you might be classifying participants on e.g. amount of head motion rather than a feature of interest!\n",
    "\n",
    "```{bibliography} references.bib\n",
    ":style: unsrt\n",
    "```"
   ]
  }
 ],
 "metadata": {
  "jupytext": {
   "formats": "md:myst",
   "text_representation": {
    "extension": ".md",
    "format_name": "myst"
   }
  },
  "kernelspec": {
   "display_name": "Python 3",
   "name": "python3"
  },
  "language_info": {
   "codemirror_mode": {
    "name": "ipython",
    "version": 3
   },
   "file_extension": ".py",
   "mimetype": "text/x-python",
   "name": "python",
   "nbconvert_exporter": "python",
   "pygments_lexer": "ipython3",
   "version": "3.7.13"
  },
  "source_map": [
   10,
   24,
   36,
   76,
   83,
   91,
   97,
   115,
   122,
   167,
   176,
   184,
   186,
   212,
   219,
   232,
   235,
   268,
   273,
   277,
   281,
   285,
   288,
   301,
   303,
   308,
   313,
   317,
   325,
   329,
   332
  ]
 },
 "nbformat": 4,
 "nbformat_minor": 5
}
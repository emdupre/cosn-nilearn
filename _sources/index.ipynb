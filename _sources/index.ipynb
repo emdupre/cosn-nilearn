{
 "cells": [
  {
   "cell_type": "code",
   "execution_count": 1,
   "id": "3bd0f351",
   "metadata": {
    "tags": [
     "hide-cell"
    ]
   },
   "outputs": [],
   "source": [
    "import warnings\n",
    "warnings.filterwarnings(\"ignore\")"
   ]
  },
  {
   "cell_type": "markdown",
   "id": "54f04fa9",
   "metadata": {},
   "source": [
    "# An introduction to [`nilearn`](http://nilearn.github.io)\n",
    "\n",
    "In this tutorial, we'll see how the Python library `nilearn` allows us to easily perform machine learning analyses with neuroimaging data, specifically MRI and fMRI."
   ]
  }
 ],
 "metadata": {
  "jupytext": {
   "text_representation": {
    "format_name": "myst"
   }
  },
  "kernelspec": {
   "display_name": "Python 3",
   "name": "python3"
  },
  "language_info": {
   "codemirror_mode": {
    "name": "ipython",
    "version": 3
   },
   "file_extension": ".py",
   "mimetype": "text/x-python",
   "name": "python",
   "nbconvert_exporter": "python",
   "pygments_lexer": "ipython3",
   "version": "3.7.13"
  },
  "repository": {
   "url": "https://github.com/emdupre/cosn-nilearn"
  },
  "source_map": [
   12,
   17
  ]
 },
 "nbformat": 4,
 "nbformat_minor": 5
}
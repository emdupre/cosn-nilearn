{
 "cells": [
  {
   "cell_type": "markdown",
   "id": "162bfee4",
   "metadata": {},
   "source": [
    "# An introduction to [`nilearn`](http://nilearn.github.io)\n",
    "\n",
    "In this tutorial, we'll see how the Python library `nilearn` allows us to easily perform machine learning analyses with neuroimaging data, specifically MRI and fMRI.\n",
    "\n",
    "## Structure of the workshop\n",
    "\n",
    "This workshop is divided into two main topics:\n",
    "\n",
    "1. Extracting meaningful features from neuroimaging data\n",
    "2. Performing classification analyses and visualizing results\n",
    "\n",
    "Although we highlight a small subset of the available functionality here, please see the [Nilearn documentation](https://nilearn.github.io) for an in-depth review of the many different kinds of analyses that can be run using Nilearn.\n",
    "For example, in addition to classification analyses, Nilearn can also be used to conduct [Multi-Voxel Pattern (MVP) decoding](https://nilearn.github.io/stable/auto_examples/plot_decoding_tutorial.html#sphx-glr-auto-examples-plot-decoding-tutorial-py) and [General Linear Model (GLM)](https://nilearn.github.io/stable/auto_examples/plot_single_subject_single_run.html#sphx-glr-auto-examples-plot-single-subject-single-run-py) analyses."
   ]
  }
 ],
 "metadata": {
  "jupytext": {
   "formats": "md:myst",
   "text_representation": {
    "extension": ".md",
    "format_name": "myst"
   }
  },
  "kernelspec": {
   "display_name": "Python 3",
   "name": "python3"
  },
  "language_info": {
   "codemirror_mode": {
    "name": "ipython",
    "version": 3
   },
   "file_extension": ".py",
   "mimetype": "text/x-python",
   "name": "python",
   "nbconvert_exporter": "python",
   "pygments_lexer": "ipython3",
   "version": "3.7.13"
  },
  "source_map": [
   10
  ]
 },
 "nbformat": 4,
 "nbformat_minor": 5
}
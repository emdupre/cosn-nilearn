{
 "cells": [
  {
   "cell_type": "code",
   "execution_count": 1,
   "id": "b2590920",
   "metadata": {
    "tags": [
     "hide-cell"
    ]
   },
   "outputs": [],
   "source": [
    "import warnings\n",
    "warnings.filterwarnings(\"ignore\")"
   ]
  },
  {
   "cell_type": "markdown",
   "id": "a79df396",
   "metadata": {},
   "source": [
    "# An introduction to [`nilearn`](http://nilearn.github.io)\n",
    "\n",
    "In this tutorial, we'll see how the Python library `nilearn` allows us to easily perform machine learning analyses with neuroimaging data, specifically MRI and fMRI."
   ]
  }
 ],
 "metadata": {
  "jupytext": {
   "formats": "md:myst",
   "text_representation": {
    "extension": ".md",
    "format_name": "myst"
   }
  },
  "kernelspec": {
   "display_name": "Python 3",
   "name": "python3"
  },
  "language_info": {
   "codemirror_mode": {
    "name": "ipython",
    "version": 3
   },
   "file_extension": ".py",
   "mimetype": "text/x-python",
   "name": "python",
   "nbconvert_exporter": "python",
   "pygments_lexer": "ipython3",
   "version": "3.7.13"
  },
  "repository": {
   "url": "https://github.com/emdupre/cosn-nilearn"
  },
  "source_map": [
   14,
   19
  ]
 },
 "nbformat": 4,
 "nbformat_minor": 5
}